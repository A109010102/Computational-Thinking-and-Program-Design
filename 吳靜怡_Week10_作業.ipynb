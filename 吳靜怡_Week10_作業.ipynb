{
  "nbformat": 4,
  "nbformat_minor": 0,
  "metadata": {
    "kernelspec": {
      "display_name": "Python 3",
      "language": "python",
      "name": "python3"
    },
    "language_info": {
      "codemirror_mode": {
        "name": "ipython",
        "version": 3
      },
      "file_extension": ".py",
      "mimetype": "text/x-python",
      "name": "python",
      "nbconvert_exporter": "python",
      "pygments_lexer": "ipython3",
      "version": "3.8.5"
    },
    "colab": {
      "name": "吳靜怡-Week10-作業.ipynb",
      "provenance": [],
      "collapsed_sections": [],
      "include_colab_link": true
    }
  },
  "cells": [
    {
      "cell_type": "markdown",
      "metadata": {
        "id": "view-in-github",
        "colab_type": "text"
      },
      "source": [
        "<a href=\"https://colab.research.google.com/github/A109010102/Computational-Thinking-and-Program-Design/blob/main/%E5%90%B3%E9%9D%9C%E6%80%A1_Week10_%E4%BD%9C%E6%A5%AD.ipynb\" target=\"_parent\"><img src=\"https://colab.research.google.com/assets/colab-badge.svg\" alt=\"Open In Colab\"/></a>"
      ]
    },
    {
      "cell_type": "markdown",
      "metadata": {
        "id": "N0j_Jz59kcTw"
      },
      "source": [
        "# 基本程式設計(應用篇)"
      ]
    },
    {
      "cell_type": "markdown",
      "metadata": {
        "id": "pS0DjxVKkcTx"
      },
      "source": [
        "### 4-2 運算思維四個基石"
      ]
    },
    {
      "cell_type": "markdown",
      "metadata": {
        "id": "DyaplfIQkcTy"
      },
      "source": [
        "#### 4-2-4  問題拆解 - 打造你的聊天機器人"
      ]
    },
    {
      "cell_type": "markdown",
      "metadata": {
        "id": "LW5PEJKHkcTy"
      },
      "source": [
        "「哈囉，大家好。我叫Zyxo64，是一個聊天機器人。\n",
        "\n",
        "在嗜好與興趣方面，我很喜歡美食，也喜歡養動物。\n",
        "\n",
        "很高興有機會來到世新大學，請大家多多指教。\n",
        "\n",
        "嗨！妳好，請問大名？：Francis。\n",
        "\n",
        "Francis，很高興認識你。"
      ]
    },
    {
      "cell_type": "code",
      "metadata": {
        "id": "TiEA1-MBkcTz",
        "colab": {
          "base_uri": "https://localhost:8080/"
        },
        "outputId": "13a417d0-7e77-4e9b-ac8c-c554bc1d3763"
      },
      "source": [
        "# 1.聊天機器人自我介紹\n",
        "print(\"哈囉， 大家好。我叫may8787。\")\n",
        "print(f\"在嗜好與興趣,我很喜歡美食，也喜歡打翻食物\")\n",
        "hello = \"很高興有機會來到世新大學，請大家多多指教\"\n",
        "print(hello)\n",
        "\n",
        "# 2. 打招呼，取得對方名字\n",
        "name = input(\"嗨!你好，請問大名? : \")\n",
        "print(\"很高興認識你。\")"
      ],
      "execution_count": null,
      "outputs": [
        {
          "output_type": "stream",
          "text": [
            "哈囉， 大家好。我叫may8787。\n",
            "在嗜好與興趣,我很喜歡美食，也喜歡打翻食物\n",
            "很高興有機會來到世新大學，請大家多多指教\n",
            "嗨!你好，請問大名? : 6\n",
            "很高興認識你。\n"
          ],
          "name": "stdout"
        }
      ]
    },
    {
      "cell_type": "markdown",
      "metadata": {
        "id": "mUeCX3XzkcTz"
      },
      "source": [
        "抱歉，請問一下今年是西元2021年，那是民國幾年呢？：*110*。\n",
        "\n",
        "對！沒錯，謝謝妳！\n",
        "\n",
        "**Francis**，猜猜看我今年幾歲？ ：**18**。\n",
        "\n",
        "哇！你好聰明，我今年的確*18*。\n",
        "\n",
        "再82年我就100歲了。\n",
        "\n",
        "那時候是西元 2103年，也就是民國192年囉！"
      ]
    },
    {
      "cell_type": "code",
      "metadata": {
        "id": "Qgm__NMzkcTz",
        "colab": {
          "base_uri": "https://localhost:8080/"
        },
        "outputId": "1fc3f2e5-4ec8-48fe-b97e-6a1073264d3a"
      },
      "source": [
        "# 3. 數學運算\n",
        "## 3-1 從使用者取得今年年份\n",
        "year = input(\"請問西元2021年，那是民國幾年？\")\n",
        "\n",
        "print(\"對！沒錯，謝謝妳！\")\n",
        "\n",
        "## 3-2 請使用者猜年齡\n",
        "age = input(\"Francis，猜猜看我今年幾歲？\")\n",
        "\n",
        "print(\"哇！你好聰明，我今年的確\",age)\n",
        "\n",
        "## 3-3 計算聊天機器人滿100歲的年份\n",
        "\n",
        "nyears = 100 - int(age)\n",
        "print(f\"再{nyears}年我就100歲了。\")\n",
        "total = 1911 + 110\n",
        "print(f\"到時候是西元 {int(year) + nyears + 1911}年\")\n"
      ],
      "execution_count": null,
      "outputs": [
        {
          "output_type": "stream",
          "text": [
            "請問西元2021年，那是民國幾年？110\n",
            "對！沒錯，謝謝妳！\n",
            "Francis，猜猜看我今年幾歲？10\n",
            "哇！你好聰明，我今年的確 10\n",
            "再90年我就100歲了。\n",
            "到時候是西元 2111年\n"
          ],
          "name": "stdout"
        }
      ]
    },
    {
      "cell_type": "markdown",
      "metadata": {
        "id": "bOKu8w4ykcT0"
      },
      "source": [
        "我喜歡吃巧克力，也喜歡嘗試各種新食物。\n",
        "\n",
        "你呢？你最喜歡的食物是什麼？**:披薩**。\n",
        "\n",
        "我也喜歡 *披薩*。\n",
        "\n",
        "你多久吃一次 *披薩*？**：每天**。\n",
        "\n",
        "真有趣。不知道這樣對健康好不好。"
      ]
    },
    {
      "cell_type": "code",
      "metadata": {
        "id": "cMjbMvy_kcT0",
        "colab": {
          "base_uri": "https://localhost:8080/"
        },
        "outputId": "daf33be0-12c6-46b4-91f4-447af3fa3e88"
      },
      "source": [
        "# 4 興趣\n",
        "print(\"我喜歡吃巧克力，也喜歡嘗試各種新食物。\")\n",
        "food = input(\"你呢。你最喜歡的食物是什麼？:  \")\n",
        "\n",
        "print(\"我也喜歡\",food)\n",
        "question = input(\"你多久吃一次\" + food + \"?: \")\n",
        "print(\"真有趣。 不知道這樣對健康好不好!\")\n",
        "## 4-1 食物話題\n"
      ],
      "execution_count": 10,
      "outputs": [
        {
          "output_type": "stream",
          "text": [
            "我喜歡吃巧克力，也喜歡嘗試各種新食物。\n",
            "你呢。你最喜歡的食物是什麼？:  泡麵\n",
            "我也喜歡 泡麵\n",
            "你多久吃一次泡麵?: 一天\n",
            "真有趣。 不知道這樣對健康好不好!\n"
          ],
          "name": "stdout"
        }
      ]
    },
    {
      "cell_type": "markdown",
      "metadata": {
        "id": "rFP9wbMnkcT0"
      },
      "source": [
        "我最喜歡的動物是長頸鹿。你呢？ **：烏龜**。\n",
        "\n",
        "我不喜歡*烏龜*！\n",
        "\n",
        "不知道 *烏龜* 喜不喜歡吃 *披薩*？"
      ]
    },
    {
      "cell_type": "code",
      "metadata": {
        "id": "GqQiNDOJkcT1",
        "colab": {
          "base_uri": "https://localhost:8080/"
        },
        "outputId": "4d9ad9ec-7b1f-44e8-a579-a087eae1a652"
      },
      "source": [
        "## 4-2 動物話題\n",
        "\n",
        "animal= input(\"我最喜歡的動物是長頸鹿。你呢? :\")\n",
        "print(\"我不喜歡\",animal)\n",
        "print(\"不知道\",animal,\"喜不喜歡吃\", food, \"?\")"
      ],
      "execution_count": 12,
      "outputs": [
        {
          "output_type": "stream",
          "text": [
            "我最喜歡的動物是長頸鹿。你呢? :狗狗\n",
            "我不喜歡 狗狗\n",
            "不知道 狗狗 喜不喜歡吃 泡麵 ?\n"
          ],
          "name": "stdout"
        }
      ]
    },
    {
      "cell_type": "markdown",
      "metadata": {
        "id": "K2F0fHVOkcT1"
      },
      "source": [
        "你今天的心情如何？ **：很開心**。\n",
        "\n",
        "可以告訴我你 *開心* 的原因嗎？**因為週末了！** \n",
        "\n",
        "祝你週末愉快！\n",
        "\n",
        "我喜歡跟你聊天，現在有點累了，改天再聊吧！！\n",
        "\n",
        "再見 *Francis*！"
      ]
    },
    {
      "cell_type": "code",
      "metadata": {
        "id": "CFbinxLekcT1",
        "colab": {
          "base_uri": "https://localhost:8080/"
        },
        "outputId": "57b085b0-9d2d-4c2f-bb30-f685d14d6593"
      },
      "source": [
        "# 5. 關於心情的對話\n",
        "feeling = input(\"你今天心情如何? :\")\n",
        "print(\"可以告訴我，你\", feeling, \"的原因。\")\n",
        "reason = input(\"為什麼: \")\n",
        "print(\"我知道了。謝謝分享。\")"
      ],
      "execution_count": 13,
      "outputs": [
        {
          "output_type": "stream",
          "text": [
            "你今天心情如何? :很難過\n",
            "可以告訴我，你 很難過 的原因。\n",
            "為什麼: 有點累\n",
            "我知道了。謝謝分享。\n"
          ],
          "name": "stdout"
        }
      ]
    },
    {
      "cell_type": "markdown",
      "metadata": {
        "id": "HMrJnvnSkcT1"
      },
      "source": [
        "我喜歡跟你聊天，現在有點累了，改天再聊吧！！\n",
        "\n",
        "再見 *Francis*！"
      ]
    },
    {
      "cell_type": "code",
      "metadata": {
        "id": "rvZv8RjfkcT1",
        "colab": {
          "base_uri": "https://localhost:8080/"
        },
        "outputId": "f82fcd47-d05e-4b89-9a74-8debdde3e8aa"
      },
      "source": [
        "print(\"我喜歡跟你聊天，現在有點累了，改天再聊吧！！\")\n",
        "print(\"再見!\")"
      ],
      "execution_count": 17,
      "outputs": [
        {
          "output_type": "stream",
          "text": [
            "我喜歡跟你聊天，現在有點累了，改天再聊吧！！\n",
            "再見!\n"
          ],
          "name": "stdout"
        }
      ]
    },
    {
      "cell_type": "markdown",
      "metadata": {
        "id": "ZqFR1tQPkcT2"
      },
      "source": [
        "## 期末報告"
      ]
    },
    {
      "cell_type": "markdown",
      "metadata": {
        "id": "5c9MrY78kcT2"
      },
      "source": [
        "### 組長(學號姓名): 吳靜怡，蕭沁梅，宋亭誼，王舒詒\n",
        "\n"
      ]
    },
    {
      "cell_type": "markdown",
      "metadata": {
        "id": "qLZ2eX89kcT2"
      },
      "source": [
        "### 組員(學號姓名):吳靜怡，蕭沁梅，宋亭誼，王舒詒\n",
        "\n",
        "\n"
      ]
    },
    {
      "cell_type": "markdown",
      "metadata": {
        "id": "SCrJMoVpkcT2"
      },
      "source": [
        "### 題目:"
      ]
    },
    {
      "cell_type": "markdown",
      "metadata": {
        "id": "ig3s1uXdkcT2"
      },
      "source": [
        "### 百字腳本\n",
        "\n"
      ]
    }
  ]
}