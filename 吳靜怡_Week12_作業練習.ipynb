{
  "nbformat": 4,
  "nbformat_minor": 0,
  "metadata": {
    "kernelspec": {
      "display_name": "Python 3",
      "language": "python",
      "name": "python3"
    },
    "language_info": {
      "codemirror_mode": {
        "name": "ipython",
        "version": 3
      },
      "file_extension": ".py",
      "mimetype": "text/x-python",
      "name": "python",
      "nbconvert_exporter": "python",
      "pygments_lexer": "ipython3",
      "version": "3.8.5"
    },
    "colab": {
      "name": "吳靜怡-Week12-作業練習.ipynb",
      "provenance": [],
      "collapsed_sections": [],
      "include_colab_link": true
    }
  },
  "cells": [
    {
      "cell_type": "markdown",
      "metadata": {
        "id": "view-in-github",
        "colab_type": "text"
      },
      "source": [
        "<a href=\"https://colab.research.google.com/github/A109010102/Computational-Thinking-and-Program-Design/blob/main/%E5%90%B3%E9%9D%9C%E6%80%A1_Week12_%E4%BD%9C%E6%A5%AD%E7%B7%B4%E7%BF%92.ipynb\" target=\"_parent\"><img src=\"https://colab.research.google.com/assets/colab-badge.svg\" alt=\"Open In Colab\"/></a>"
      ]
    },
    {
      "cell_type": "markdown",
      "metadata": {
        "id": "Z6ttT26M_7sd"
      },
      "source": [
        "#### 隨堂練習1: 滿2000 打九折\n",
        "\n",
        "**請寫一個程式幫助店家計算顧客所需付出的金額。**\n",
        "\n",
        "採買物品時，有時會遇到店家為了刺激消費，會使用滿額折扣。例如，滿2000 打九折，未滿2000 則不打折。"
      ]
    },
    {
      "cell_type": "code",
      "metadata": {
        "colab": {
          "base_uri": "https://localhost:8080/"
        },
        "id": "nfAwrk_w_7sg",
        "outputId": "3222c301-7d15-464a-dfcf-15d1cbb62490"
      },
      "source": [
        "cost = int(input(\"請輸入購買金額?\"))\n",
        "if cost >= 2000:\n",
        "  print(cost * 0.9)\n",
        "else:\n",
        "  print(cost)"
      ],
      "execution_count": 8,
      "outputs": [
        {
          "output_type": "stream",
          "text": [
            "請輸入購買金額?2900\n",
            "2610.0\n"
          ],
          "name": "stdout"
        }
      ]
    },
    {
      "cell_type": "markdown",
      "metadata": {
        "id": "8_8-fGXh_7sh"
      },
      "source": [
        "#### 隨堂練習2: 判斷奇偶數\n",
        "\n",
        "請寫一個程式判斷輸入的值是奇數還是偶數。"
      ]
    },
    {
      "cell_type": "code",
      "metadata": {
        "colab": {
          "base_uri": "https://localhost:8080/"
        },
        "id": "Sfd9u-6y_7sh",
        "outputId": "e65b2d9c-7c66-4a5d-e2ef-b3e89297df45"
      },
      "source": [
        "num = int(input(\"請輸入一個整數?\"))\n",
        "if num % 2 == 0:\n",
        "  print(num,\"為偶數\")\n",
        "else:\n",
        "  print(num,\"為奇數\")\n",
        "  "
      ],
      "execution_count": 10,
      "outputs": [
        {
          "output_type": "stream",
          "text": [
            "請輸入一個整數?2\n",
            "2 為偶數\n"
          ],
          "name": "stdout"
        }
      ]
    },
    {
      "cell_type": "markdown",
      "metadata": {
        "id": "obkiXW89_7si"
      },
      "source": [
        "#### 練習7. Think Like a Computer Scientist\n",
        "\n",
        "如果輸入的num為20, 9, 5,和0，請用你的邏輯直接告訴我，下面兩組程式結果與差異:\n",
        "    \n",
        "```{pYTHON}\n",
        "## 方法（一）：if 敘述\n",
        "num = int(input(\"Enter a number: \"))\n",
        "if num < 6:\n",
        "    print(\"num is less than 6\")\n",
        "if num < 10:\n",
        "    print(\"num is less than 10\")\n",
        "if num > 3:\n",
        "    print(\"num is greater than 3\")\n",
        "print(\"Finished.\")\n",
        "\n",
        "## 方法（二）：if-elif-else敘述\n",
        "num = input(\"Pick a number! \")\n",
        "num = int(num)\n",
        "if num < 6:\n",
        "    print(\"number is less than 6.\")\n",
        "elif num < 10:\n",
        "    print(\"number is less than 10.\")\n",
        "elif num > 3:\n",
        "    print(\"number is greater than 3.\")\n",
        "else:\n",
        "    print(\"No relation is found.\")\n",
        "print(\"Finished.\")\n",
        "\n",
        "```"
      ]
    },
    {
      "cell_type": "markdown",
      "metadata": {
        "id": "CysCA6YXS5hl"
      },
      "source": [
        "輸入20 -\n",
        "\n",
        "方法一與方法二結果相同\n",
        "num is greater than 3\n",
        "\n",
        "\n",
        "輸入9 -\n",
        "\n",
        "方法二會比方法一少一個對於大於三的判斷 \n",
        "\n",
        "當一個if或任何一個elif判斷為真時，後面的elif和else都不會執行了\n",
        "\n",
        "\n",
        "輸入5  -\n",
        "\n",
        "方法一num is less than 6+num is less than 10+num is greater than 3\n",
        "\n",
        "方法二num is less than 6\n",
        "\n",
        "\n",
        "輸入0 -\n",
        "\n",
        "方法一num is less than 6+num is less than 10\n",
        "\n",
        "方法二num is less than 6"
      ]
    },
    {
      "cell_type": "markdown",
      "metadata": {
        "id": "5uiCrnry_7si"
      },
      "source": [
        "#### 練習2. 時尚偵測師\n",
        "\n",
        "時尚達人Cher 和 Dionne要參加一個華麗的派對。他們想確保他們的穿搭與眾不同，但有也想保留一點共同的地方，比如兩人都喜歡粉紅色。讓我們寫一些程式，確保兩人的穿搭都個性十足！\n",
        "\n",
        "～首先，請用變數賦值的方式決定兩位的穿著\n",
        "\n",
        "```{Python}\n",
        "## 例如下面的穿著建議，請同學自行修改\n",
        "cher_dress_color = \"pink\"\n",
        "cher_shoe_color = \"white\"\n",
        "cher_has_earrings = True\n",
        "dionne_dress_color = \"purple\"\n",
        "dionne_shoe_color = \"pink\"\n",
        "dionne_has_earrings = True\n",
        "```\n",
        "\n",
        "～其次，請同學用真假值做時尚偵測，檢查一下兩位時尚達人的穿搭是否符合下面的要點:\n",
        "\n",
        "1. 至少有一人穿紫色 At least one person is wearing purple? \n",
        "2. 兩人穿不同顏色的衣服Cher and Dionne have different dress colors.\n",
        "3. 兩人都戴耳環Cher and Dionne are both earing earrings.\n",
        "4. 至少有一人穿粉紅色 At least one person is wearing pink.\n",
        "5. 沒人穿綠色。 No one is wearing green.\n",
        "6. 兩人穿同顏色的鞋子 Cher and Dionne have the same shoe color.\n",
        "\n",
        "```{PYTHON}\n",
        "## 例如\n",
        "print(f'At least one person is wearing pink? {cher_dress_color == \"pink\" or dionne_dress_color == \"pink\"}')\n",
        "\n",
        ".......請同學自行撰寫判斷程式\n",
        "```\n"
      ]
    },
    {
      "cell_type": "code",
      "metadata": {
        "colab": {
          "base_uri": "https://localhost:8080/"
        },
        "id": "kX4HAC0AQGEY",
        "outputId": "b21b9f14-6de6-4bf5-efe4-0deede9c4b24"
      },
      "source": [
        "cher_dress_color = \"pink\"\n",
        "cher_shoe_color = \"white\"\n",
        "cher_has_earrings = True\n",
        "dionne_dress_color = \"purple\"\n",
        "dionne_shoe_color = \"pink\"\n",
        "dionne_has_earrings = True\n",
        "print(f'At least one person is wearing purple? {cher_dress_color == \"purple\" or dionne_dress_color == \"purple\"}')\n",
        "print(f'Cher and Dionne have different dress colors. {cher_dress_color == dionne_dress_color }')\n",
        "print(f'Cher and Dionne are both earing earrings. {cher_has_earrings == True or drdionne_dress_color == true}')\n",
        "print(f'At least one person is wearing pink. {cher_dress_color == \"pink\" or cher_shoe_color == \"pink\" or dionne_dress_color == \"pink\" or dionne_shoe_color == \"pink\" }')\n",
        "print(f'No one is wearing green? {cher_dress_color != \"green\" and dionne_dress_color != \"green\"}')\n",
        "print(f'Cher and Dionne have the same shoe color. {cher_shoe_color == dionne_shoe_color}')"
      ],
      "execution_count": 56,
      "outputs": [
        {
          "output_type": "stream",
          "text": [
            "At least one person is wearing purple? True\n",
            "Cher and Dionne have different dress colors. False\n",
            "Cher and Dionne are both earing earrings. True\n",
            "At least one person is wearing pink. True\n",
            "No one is wearing green? True\n",
            "Cher and Dionne have the same shoe color. False\n"
          ],
          "name": "stdout"
        }
      ]
    }
  ]
}