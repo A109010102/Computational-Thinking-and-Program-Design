{
  "nbformat": 4,
  "nbformat_minor": 0,
  "metadata": {
    "colab": {
      "name": "吳靜怡-Week5-練習作業",
      "provenance": [],
      "collapsed_sections": [],
      "include_colab_link": true
    },
    "kernelspec": {
      "display_name": "Python 3",
      "language": "python",
      "name": "python3"
    },
    "language_info": {
      "codemirror_mode": {
        "name": "ipython",
        "version": 3
      },
      "file_extension": ".py",
      "mimetype": "text/x-python",
      "name": "python",
      "nbconvert_exporter": "python",
      "pygments_lexer": "ipython3",
      "version": "3.8.5"
    }
  },
  "cells": [
    {
      "cell_type": "markdown",
      "metadata": {
        "id": "view-in-github",
        "colab_type": "text"
      },
      "source": [
        "<a href=\"https://colab.research.google.com/github/A109010102/Computational-Thinking-and-Program-Design/blob/main/%E5%90%B3%E9%9D%9C%E6%80%A1_Week5_%E7%B7%B4%E7%BF%92%E4%BD%9C%E6%A5%AD.ipynb\" target=\"_parent\"><img src=\"https://colab.research.google.com/assets/colab-badge.svg\" alt=\"Open In Colab\"/></a>"
      ]
    },
    {
      "cell_type": "markdown",
      "metadata": {
        "id": "9NKLVAjCV7e-"
      },
      "source": [
        "算術運算子\n",
        "加減乘除\n",
        "商//\n",
        "餘%\n",
        "次方**\n",
        "\n",
        "算數指定運算子\n",
        "a = a + 2 可濃縮為 a += 2  "
      ]
    },
    {
      "cell_type": "code",
      "metadata": {
        "colab": {
          "base_uri": "https://localhost:8080/"
        },
        "id": "rAdYLWvfVNCw",
        "outputId": "7ca61b66-4524-4188-e008-34e21fa82214"
      },
      "source": [
        "print(9+7)\n",
        "print(9-7)\n",
        "print(9*7)\n",
        "print(9/7)\n",
        "print(9**7)\n",
        "print(9//7)\n",
        "print(9%7)"
      ],
      "execution_count": 46,
      "outputs": [
        {
          "output_type": "stream",
          "text": [
            "16\n",
            "2\n",
            "63\n",
            "1.2857142857142858\n",
            "4782969\n",
            "1\n",
            "2\n"
          ],
          "name": "stdout"
        }
      ]
    },
    {
      "cell_type": "code",
      "metadata": {
        "colab": {
          "base_uri": "https://localhost:8080/"
        },
        "id": "7WYyYY4sc3VN",
        "outputId": "0d76c558-81de-414e-c421-54a485a04fee"
      },
      "source": [
        "a=9\n",
        "b=7\n",
        "print(a+b)\n",
        "print(a-b)\n",
        "print(b*2)\n",
        "print(b/2)\n",
        "print(a%3)\n",
        "print(a//3)\n",
        "print(a**2)"
      ],
      "execution_count": 45,
      "outputs": [
        {
          "output_type": "stream",
          "text": [
            "16\n",
            "2\n",
            "14\n",
            "3.5\n",
            "0\n",
            "3\n",
            "81\n"
          ],
          "name": "stdout"
        }
      ]
    },
    {
      "cell_type": "code",
      "metadata": {
        "colab": {
          "base_uri": "https://localhost:8080/"
        },
        "id": "OaTASW5UeJ7b",
        "outputId": "85932c9f-cc78-48dc-e631-5db375473093"
      },
      "source": [
        "number = input(\"Enter a number: \")\n",
        "number = eval(number)\n",
        "number + number"
      ],
      "execution_count": 47,
      "outputs": [
        {
          "output_type": "stream",
          "text": [
            "Enter a number: 44\n"
          ],
          "name": "stdout"
        },
        {
          "output_type": "execute_result",
          "data": {
            "text/plain": [
              "88"
            ]
          },
          "metadata": {
            "tags": []
          },
          "execution_count": 47
        }
      ]
    },
    {
      "cell_type": "markdown",
      "metadata": {
        "id": "13ZEwX9BNqG4"
      },
      "source": [
        "## II. 隨堂練習"
      ]
    },
    {
      "cell_type": "markdown",
      "metadata": {
        "id": "yhT7SEOgigU-"
      },
      "source": [
        "**隨堂練習4: 滑稽故事**\n",
        "\n",
        "你玩過Mad Libs這種紙上遊戲嗎？這是一個有趣的遊戲，你要求另一個人給你各種類型單字，例如：顏色、數字、形容詞等，並且將這些單字填補到短篇故事中的空白處，當空白處填完畢後，你朗誦整段故事給他們聽，大多時候，這些故事真的變得很滑稽。\n",
        "\n",
        "大家該做什麼\n",
        "\n",
        "我們知道可以使用f字串替換字串的某些部分，編寫一個程式，輸出你那荒謬的、來自朋友的故事。以下是開始的步驟：\n",
        "\n",
        "Step 1: 創立一個新檔來儲存滑稽故事的程式。\n",
        "\n",
        "Step 2: 創立四到五個不同類型單字的變數。例如下面並儲存這些變數在檔案中。\n",
        "\n",
        "```\n",
        "name = \"\"\n",
        "adjective = \"\"\n",
        "favorite_snack = \"\"\n",
        "number = \"\"\n",
        "type_of_tree = \"\"\n",
        "```\n",
        "\n",
        "請注意，我們尚未指派變數的任何值。這裡就是之後填入朋友提供你的單字之處。\n",
        "\n",
        "Step3: 創立另一個變數保存你的滑稽故事，你可以使用此模版或編寫你自己的模版：\n",
        "\n",
        "```\n",
        "silly_story = f\"\"\"\n",
        "Hi, my name is {name}.\n",
        "I really like {adjective}{favorite_snack}!\n",
        "I like it so much, I try to eat it at least {number} times every day.\n",
        "It tastes even better when you eat it under a {type of tree}!\n",
        "\"\"\"\n",
        "```\n",
        "\n",
        "Step4: 最後，使用print()函式輸出你的滑稽故事：\n",
        "\n",
        "```\n",
        "print(silly_story)\n",
        "```\n",
        "\n",
        "這樣就完成了！現在去找朋友，要求他們給一些單字（你的變數）。將變數更改為朋友給你的單字，儲存程式然後執行它，看看你的滑稽故事。"
      ]
    },
    {
      "cell_type": "code",
      "metadata": {
        "colab": {
          "base_uri": "https://localhost:8080/"
        },
        "id": "UxA3xs_0TddD",
        "outputId": "73246706-239a-4316-d387-8d2fe48e7490"
      },
      "source": [
        "name = \"may\"\n",
        "adjective = \"sweet\"\n",
        "favorite_snack = \"jelly\"\n",
        "number = \"six\"\n",
        "type_of_tree = \"apple tree\"\n",
        "\n",
        "silly_story = f\"\"\"\n",
        "Hi, my name is {name}.\n",
        "I really like {adjective} {favorite_snack}!\n",
        "I like it so much, I try to eat it at least {number} times every day.\n",
        "It tastes even better when you eat it under a {type_of_tree}!\n",
        "\"\"\"\n",
        "print(silly_story)"
      ],
      "execution_count": 15,
      "outputs": [
        {
          "output_type": "stream",
          "text": [
            "\n",
            "Hi, my name is may.\n",
            "I really like sweet jelly!\n",
            "I like it so much, I try to eat it at least six times every day.\n",
            "It tastes even better when you eat it under a apple tree!\n",
            "\n"
          ],
          "name": "stdout"
        }
      ]
    },
    {
      "cell_type": "markdown",
      "metadata": {
        "id": "MM_K13L9OGfY"
      },
      "source": [
        "## III. 課後練習"
      ]
    },
    {
      "cell_type": "markdown",
      "metadata": {
        "id": "gWi7UdhNDmpI"
      },
      "source": [
        "**練習3: 變數賦值，小猴子摘水果**\n",
        "\n",
        "有一天，一隻小猴子來到果園裡，牠走道蘋果樹下，看到滿樹的蘋果，就爬上去摘了2個。又看到不滿的地方有一個梨子樹，又大又黃，就丟掉蘋果，爬到梨子樹摘了1個梨子。正準備吃的時候，看到前方又紅又大的桃子樹，就又高高興興地跑到桃樹上，摘了3個桃子。這時傳來小鳥的叫聲，鳥在香蕉樹上，當然就立馬飛奔去摘香蕉，最後吃了6根香蕉。請問這隻猴子摘了多少個水果，手中最後的水果是什麼？請你用Python記錄一下！"
      ]
    },
    {
      "cell_type": "code",
      "metadata": {
        "colab": {
          "base_uri": "https://localhost:8080/"
        },
        "id": "ALwIMeJagIUL",
        "outputId": "ef2c4cb8-5660-4425-cd85-0dde8d1104dd"
      },
      "source": [
        "total=0\n",
        "fruit=\"Apple\"\n",
        "number=2\n",
        "total=total+number\n",
        "print(\"摘了\",fruit, \"摘了\", number, \"個，總共摘了\", total, \"個水果\")\n",
        "\n",
        "fruit=\"Pear\"\n",
        "number=1\n",
        "total=total+number\n",
        "print(\"摘了\",fruit, \"摘了\", number, \"個，總共摘了\", total, \"個水果\")\n",
        "\n",
        "\n",
        "fruit=\"Peach\"\n",
        "number=3\n",
        "total=total+number\n",
        "print(\"摘了\",fruit, \"摘了\", number, \"個，總共摘了\", total, \"個水果\")\n",
        "\n",
        "fruit=\"Banana\"\n",
        "number=6\n",
        "total=total+number\n",
        "print(\"摘了\",fruit, \"摘了\", number, \"個，總共摘了\", total, \"個水果\")"
      ],
      "execution_count": 53,
      "outputs": [
        {
          "output_type": "stream",
          "text": [
            "摘了 Apple 摘了 2 個，總共摘了 2 個水果\n",
            "摘了 Pear 摘了 1 個，總共摘了 3 個水果\n",
            "摘了 Peach 摘了 3 個，總共摘了 6 個水果\n",
            "摘了 Banana 摘了 6 個，總共摘了 12 個水果\n"
          ],
          "name": "stdout"
        }
      ]
    },
    {
      "cell_type": "code",
      "metadata": {
        "colab": {
          "base_uri": "https://localhost:8080/"
        },
        "id": "wUSvLHTOg3Mq",
        "outputId": "445a76bb-35eb-4609-f712-2e8b81b15251"
      },
      "source": [
        "print(\"梨子\",\"桃子\",sep=\" \")"
      ],
      "execution_count": 54,
      "outputs": [
        {
          "output_type": "stream",
          "text": [
            "梨子 桃子\n"
          ],
          "name": "stdout"
        }
      ]
    },
    {
      "cell_type": "markdown",
      "metadata": {
        "id": "67eb5JKZDvPn"
      },
      "source": [
        "**練習4: 是真的嗎？網路資料不輕信**\n",
        "\n",
        "宣宣這學期開始學習Python，老師和學長姊都說多上網查找相關資料，多多麻煩Google大神找答案，是提升自學能力最好的方法。於是她看到一段與上課有關但老師沒有教的內容，宣宣想看看下面的內容正不正確，你能幫助她嗎？(1)在Python中，用1表示True，用0和其他非1的整數表示False。(2)在Python中，所有物件都可以進行布林測試。"
      ]
    },
    {
      "cell_type": "code",
      "metadata": {
        "colab": {
          "base_uri": "https://localhost:8080/"
        },
        "id": "ecwS1t92bSew",
        "outputId": "2cf555e5-52e7-4cb2-a789-b91ac2982b05"
      },
      "source": [
        "print(bool(1))\n",
        "print(bool(0))\n",
        "print(bool(8.7))\n",
        "print(bool(-90))"
      ],
      "execution_count": 44,
      "outputs": [
        {
          "output_type": "stream",
          "text": [
            "True\n",
            "False\n",
            "True\n",
            "True\n"
          ],
          "name": "stdout"
        }
      ]
    },
    {
      "cell_type": "markdown",
      "metadata": {
        "id": "UlfQwvdgeoj6"
      },
      "source": [
        "## **隨堂練習2: 國軍定義的危險係數公式如下，依照危險係數來判斷是否能外出操課。**\n",
        "\n",
        "危險係數 = 室外攝氏溫度 + 室外相對濕度(%) * 0.1\n",
        "\n",
        "(1)若室外溫度為攝氏32度，室外相對濕度為70％，請輸出相對應的危險係數。\n",
        "\n",
        "(2)請輸入室外溫度、輸入室外相對濕度後，輸出相對應的危險係數。"
      ]
    },
    {
      "cell_type": "code",
      "metadata": {
        "colab": {
          "base_uri": "https://localhost:8080/"
        },
        "id": "rDekkCVWe3bs",
        "outputId": "dda97c0d-505a-4cfc-ef3a-4ff1076ad08c"
      },
      "source": [
        "危險係數= 32+70*0.1\n",
        "print(f\"{危險係數}\")"
      ],
      "execution_count": 48,
      "outputs": [
        {
          "output_type": "stream",
          "text": [
            "39.0\n"
          ],
          "name": "stdout"
        }
      ]
    },
    {
      "cell_type": "code",
      "metadata": {
        "colab": {
          "base_uri": "https://localhost:8080/"
        },
        "id": "nDtxuyrFe7ey",
        "outputId": "0081fd41-1a0a-40ef-d71e-6cecdd7b930c"
      },
      "source": [
        "a = input(\"Input number a = \")\n",
        "b = input(\"Input number b = \")\n",
        "a = int(a)\n",
        "b = int(b)\n",
        "print(a+b*0.1)"
      ],
      "execution_count": 49,
      "outputs": [
        {
          "output_type": "stream",
          "text": [
            "Input number a = 37\n",
            "Input number b = 28\n",
            "39.8\n"
          ],
          "name": "stdout"
        }
      ]
    }
  ]
}