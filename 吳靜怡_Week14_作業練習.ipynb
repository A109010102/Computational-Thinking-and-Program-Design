{
  "nbformat": 4,
  "nbformat_minor": 0,
  "metadata": {
    "colab": {
      "name": "吳靜怡-Week14-作業練習.ipynb",
      "provenance": [],
      "authorship_tag": "ABX9TyOQzAwWBwLpvu+FDLkXAtzM",
      "include_colab_link": true
    },
    "kernelspec": {
      "name": "python3",
      "display_name": "Python 3"
    },
    "language_info": {
      "name": "python"
    }
  },
  "cells": [
    {
      "cell_type": "markdown",
      "metadata": {
        "id": "view-in-github",
        "colab_type": "text"
      },
      "source": [
        "<a href=\"https://colab.research.google.com/github/A109010102/Computational-Thinking-and-Program-Design/blob/main/%E5%90%B3%E9%9D%9C%E6%80%A1_Week14_%E4%BD%9C%E6%A5%AD%E7%B7%B4%E7%BF%92.ipynb\" target=\"_parent\"><img src=\"https://colab.research.google.com/assets/colab-badge.svg\" alt=\"Open In Colab\"/></a>"
      ]
    },
    {
      "cell_type": "code",
      "metadata": {
        "colab": {
          "base_uri": "https://localhost:8080/"
        },
        "id": "ixbwjsT-nSyK",
        "outputId": "62f7c2cd-c0c2-4501-f268-2cca88563d01"
      },
      "source": [
        "my_choice = int(input(\"請出拳[0]蟲[1]雞[2] 老虎[3] 棒子\"))\n",
        "\n",
        "print(\"你出的拳:\",my_choice)\n",
        "\n",
        "import random\n",
        "com_choice = random. randint (0, 3)\n",
        "print(\"電腦出拳為\",com_choice)\n",
        "\n",
        "#後面勝前面其他平手\n",
        "\n",
        "if my_choice == com_choice + 1:\n",
        "   print(\"我贏了\")\n",
        "elif com_choice == my_choice + 1:\n",
        "   print(\"電腦贏了\")\n",
        "else:\n",
        "   print(\"平手\")"
      ],
      "execution_count": 17,
      "outputs": [
        {
          "output_type": "stream",
          "text": [
            "請出拳[0]蟲[1]雞[2] 老虎[3] 棒子1\n",
            "你出的拳: 1\n",
            "電腦出拳為 2\n",
            "電腦贏了\n"
          ],
          "name": "stdout"
        }
      ]
    }
  ]
}