{
  "nbformat": 4,
  "nbformat_minor": 0,
  "metadata": {
    "kernelspec": {
      "display_name": "Python 3",
      "language": "python",
      "name": "python3"
    },
    "language_info": {
      "codemirror_mode": {
        "name": "ipython",
        "version": 3
      },
      "file_extension": ".py",
      "mimetype": "text/x-python",
      "name": "python",
      "nbconvert_exporter": "python",
      "pygments_lexer": "ipython3",
      "version": "3.8.5"
    },
    "colab": {
      "name": "吳靜怡_Week8_練習作業.ipynb",
      "provenance": [],
      "collapsed_sections": [],
      "include_colab_link": true
    }
  },
  "cells": [
    {
      "cell_type": "markdown",
      "metadata": {
        "id": "view-in-github",
        "colab_type": "text"
      },
      "source": [
        "<a href=\"https://colab.research.google.com/github/A109010102/Computational-Thinking-and-Program-Design/blob/main/%E5%90%B3%E9%9D%9C%E6%80%A1_Week8_%E7%B7%B4%E7%BF%92%E4%BD%9C%E6%A5%AD.ipynb\" target=\"_parent\"><img src=\"https://colab.research.google.com/assets/colab-badge.svg\" alt=\"Open In Colab\"/></a>"
      ]
    },
    {
      "cell_type": "markdown",
      "metadata": {
        "id": "ml0-dIgosX1l"
      },
      "source": [
        "# 基本程式設計(應用篇)"
      ]
    },
    {
      "cell_type": "markdown",
      "metadata": {
        "id": "1zGG37vdsX12"
      },
      "source": [
        "####  範例練習4-5: 賣場買飲料\n",
        "\n",
        "**為了刺激銷售量，賣場通常買一打會比買一罐便宜，假設一罐賣20元，一打賣200元，請設計一個程式計算買幾罐需花多少錢，若不足一打就個別買。**\n",
        "\n",
        "～預覽結果\n",
        "輸入購買飲料的罐數，如「30」，計算結果顯示在螢幕如下。\n",
        "請輸入購買飲料的罐數？30\n",
        "需花費 520"
      ]
    },
    {
      "cell_type": "code",
      "metadata": {
        "id": "EyKtr8OIsX12",
        "colab": {
          "base_uri": "https://localhost:8080/",
          "height": 134
        },
        "outputId": "65493fdd-f6df-4137-dec9-c92c25f4bf5a"
      },
      "source": [
        "In [1]: ## Total = 200 * 幾打 ＋ 20 ＊ 罐\n",
        "   ...: ## Input Data\n",
        "   ...: cans = int(input('請輸入購買飲料的罐數？')) #數字轉文字\n",
        "   ...: ## Process\n",
        "   ...: total = (cans//12)*200 + (cans%12)*20\n",
        "   ...: ## Output\n",
        "   ...: print('需花費', total)\n",
        "\n",
        "請輸入購買飲料的罐數？124\n",
        "需花費 2080"
      ],
      "execution_count": 1,
      "outputs": [
        {
          "output_type": "error",
          "ename": "SyntaxError",
          "evalue": "ignored",
          "traceback": [
            "\u001b[0;36m  File \u001b[0;32m\"<ipython-input-1-bceb9ffb0ea6>\"\u001b[0;36m, line \u001b[0;32m9\u001b[0m\n\u001b[0;31m    請輸入購買飲料的罐數？124\u001b[0m\n\u001b[0m                 ^\u001b[0m\n\u001b[0;31mSyntaxError\u001b[0m\u001b[0;31m:\u001b[0m invalid character in identifier\n"
          ]
        }
      ]
    },
    {
      "cell_type": "code",
      "metadata": {
        "id": "3ZIddTiysX12",
        "colab": {
          "base_uri": "https://localhost:8080/"
        },
        "outputId": "c7184b13-5791-47ae-b134-95b165710c32"
      },
      "source": [
        " cans = int(input('請輸入購買飲料的罐數？')) \n",
        " total = (cans//12)*200 + (cans%12)*20\n",
        " print('需花費', total)"
      ],
      "execution_count": 2,
      "outputs": [
        {
          "output_type": "stream",
          "text": [
            "請輸入購買飲料的罐數？30\n",
            "需花費 520\n"
          ],
          "name": "stdout"
        }
      ]
    },
    {
      "cell_type": "markdown",
      "metadata": {
        "id": "WKdYE_PwsX13"
      },
      "source": [
        "**隨堂練習： 請計算NBA 史上最偉大的中鋒之一，「柴油引擎」俠客歐尼爾（Shaquille O’Neal）巔峰時期的BMI。\n",
        "當時他的身高(216cm)與體重(147kg)，而其所對應的身體質量指數公式為BMI ＝ 公斤 / 公尺平方。"
      ]
    },
    {
      "cell_type": "code",
      "metadata": {
        "id": "tYZtMfYmsX13"
      },
      "source": [
        "In [1]: player_name = input(\"請輸入球員姓名：\")\n",
        "   ...: player_height = input(\"請輸入球員身高（cm）：\")\n",
        "   ...: player_weight = input(\"請輸入球員體重（kg）：\")\n",
        "   ...: \n",
        "   ...: player_height = float(player_height)\n",
        "   ...: player_weight = float(player_weight)\n",
        "   ...: player_bmi = player_weight/(player_height*0.01)**2\n",
        "   ...: \n",
        "   ...: print(\"{}的身體質量指數為：{:.2f}\".format(player_name, player_bmi))\n",
        "   ...: print(player_name,'的身體質量指數為', player_bmi )\n",
        "\n",
        "請輸入球員姓名：Shaquille O’Neal\n",
        "\n",
        "請輸入球員身高（cm）：216\n",
        "\n",
        "請輸入球員體重（kg）：147\n",
        "Shaquille O’Neal的身體質量指數為：31.51\n",
        "Shaquille O’Neal 的身體質量指數為 31.507201646090532"
      ],
      "execution_count": null,
      "outputs": []
    },
    {
      "cell_type": "code",
      "metadata": {
        "id": "5lLYsurLsX13",
        "colab": {
          "base_uri": "https://localhost:8080/"
        },
        "outputId": "1a8924b3-a43e-45a6-d6b3-27c0df1b6096"
      },
      "source": [
        "player_name = input(\"請輸入球員姓名：\")\n",
        "player_height = input(\"請輸入球員身高（cm）：\")\n",
        "player_weight = input(\"請輸入球員體重（kg）：\")\n",
        "player_height = float(player_height)\n",
        "player_weight = float(player_weight)\n",
        "player_bmi = player_weight/(player_height*0.01)**2\n",
        "print(\"{}的身體質量指數為：{:.2f}\".format(player_name, player_bmi))\n",
        "print(player_name,'的身體質量指數為', player_bmi )"
      ],
      "execution_count": 3,
      "outputs": [
        {
          "output_type": "stream",
          "text": [
            "請輸入球員姓名：SHAQUILLE O' NEAL\n",
            "請輸入球員身高（cm）：216\n",
            "請輸入球員體重（kg）：147\n",
            "SHAQUILLE O' NEAL的身體質量指數為：31.51\n",
            "SHAQUILLE O' NEAL 的身體質量指數為 31.507201646090532\n"
          ],
          "name": "stdout"
        }
      ]
    },
    {
      "cell_type": "markdown",
      "metadata": {
        "id": "7NxI76hzsX14"
      },
      "source": [
        "### 4-2 運算思維四個基石"
      ]
    },
    {
      "cell_type": "markdown",
      "metadata": {
        "id": "67jFVchcsX14"
      },
      "source": [
        "#### 4-2-1. 抽象化 - 電影魔球"
      ]
    },
    {
      "cell_type": "code",
      "metadata": {
        "id": "WUdisTMtsX14"
      },
      "source": [
        "In [1]: ## 1. 從IMBD電影資料庫找出要記錄的魔球電影相關資訊\n",
        "   ...: ## 網址：https://www.imdb.com/title/tt1210166/\n",
        "   ...: ## 相關資訊：電影名稱、放映日期......\n",
        "   ...: \n",
        "   ...: ## 2. 在Python用變數儲存資訊\n",
        "   ...: movie_title = \"money ball\" # 電影名稱\n",
        "   ...: release_year = \"2011\"  # 放映日期\n",
        "   ...: movie_time_min = 133 # 片長\n",
        "   ...: movie_rating = 7.6 #評分\n",
        "   ...: \n",
        "   ...: director = \"Bennett Miller\" # 導演\n",
        "   ...: stars_1 = \"Brad Pitt\" #主要演員\n",
        "   ...: stars_2 = \"Robin Wright\"\n",
        "   ...: stars_3 = \"Jonah Hill\" \n",
        "   ...: \n",
        "   ...: like = 1 # 你喜不喜歡\n",
        "   ...: \n",
        "   ...: ## 3. 印出魔球電影的相關資訊\n",
        "   ...: print(movie_title)  # 螢幕列印\n",
        "   ...: print(release_year)\n",
        "   ...: print(movie_time_min)\n",
        "money ball\n",
        "2011\n",
        "133"
      ],
      "execution_count": null,
      "outputs": []
    },
    {
      "cell_type": "code",
      "metadata": {
        "id": "7AYDxSuWsX14",
        "colab": {
          "base_uri": "https://localhost:8080/"
        },
        "outputId": "a9546c23-60be-4e0c-f94e-e19c60c59597"
      },
      "source": [
        "movie_title = \"money ball\" \n",
        "release_year = \"2011\" \n",
        "movie_time_min = 133\n",
        "movie_rating = 7.6 \n",
        "director = \"Bennett Miller\"\n",
        "stars_1 = \"Brad Pitt\"\n",
        "stars_2 = \"Robin Wright\"\n",
        "stars_3 = \"Jonah Hill\" \n",
        "like = 1\n",
        "print(movie_title) \n",
        "print(release_year)\n",
        "print(movie_time_min)\n"
      ],
      "execution_count": null,
      "outputs": [
        {
          "output_type": "stream",
          "text": [
            "money ball\n",
            "2011\n",
            "133\n"
          ],
          "name": "stdout"
        }
      ]
    },
    {
      "cell_type": "markdown",
      "metadata": {
        "id": "U4d33uJEsX14"
      },
      "source": [
        "#### 4-2-2.  演算法 - 時間轉換"
      ]
    },
    {
      "cell_type": "markdown",
      "metadata": {
        "id": "kphd7M0lsX15"
      },
      "source": [
        "**請將123分鐘數轉換為幾小時幾分鐘。**"
      ]
    },
    {
      "cell_type": "code",
      "metadata": {
        "id": "E6iRbml-sX15"
      },
      "source": [
        "In [5]: # 將123分鐘轉成2小時3分鐘\n",
        "   ...: ## 1. 建立變數，輸入資料並儲存\n",
        "   ...: time = 123\n",
        "   ...: \n",
        "   ...: ## 2. 方法（一）\n",
        "   ...: ## 變數轉換為小時數\n",
        "   ...: hours = time/60 # 123/60 = 2.05\n",
        "   ...: hours1 = int(hours) #取整數為「時」\n",
        "   ...: \n",
        "   ...: ## 取得轉換後的分鐘數\n",
        "   ...: minutes = hours1 - hours #2.05-2 = 0.05\n",
        "   ...: minutes1 = round(minutes*60) # 0.05*60 = 3，但要四捨五入 \n",
        "   ...: \n",
        "   ...: ## 3. 顯示結果\n",
        "   ...: print(time, \"is equal to\", hours1, \"Hours and\", minutes1, \"Minutes\")\n",
        "123 is equal to 2 Hours and -3 Minutes"
      ],
      "execution_count": null,
      "outputs": []
    },
    {
      "cell_type": "code",
      "metadata": {
        "id": "y2K7x0QYsX15",
        "colab": {
          "base_uri": "https://localhost:8080/"
        },
        "outputId": "3ec57eed-7b32-4ecd-c9bf-13510589e075"
      },
      "source": [
        "time = 123\n",
        "hours = time/60 # 123/60 = 2.05\n",
        "hours1 = int(hours) #取整數為「時」\n",
        "minutes = hours1 - hours #2.05-2 = 0.05\n",
        "minutes1 = round(minutes*60) # 0.05*60 = 3，但要四捨五入 \n",
        "print(time, \"is equal to\", hours1, \"Hours and\", minutes1, \"Minutes\")\n"
      ],
      "execution_count": null,
      "outputs": [
        {
          "output_type": "stream",
          "text": [
            "123 is equal to 2 Hours and -3 Minutes\n"
          ],
          "name": "stdout"
        }
      ]
    },
    {
      "cell_type": "code",
      "metadata": {
        "id": "UHG5DIQqsX15"
      },
      "source": [
        "In [6]: # 1. 建立變數，輸入資料並儲存\n",
        "   ...: time = 123\n",
        "   ...: \n",
        "   ...: # 2. 方法（二）運算子\n",
        "   ...: hours2 = time // 60  #商數為小時數\n",
        "   ...: minutes2 = time % 60  #餘數為分鐘數\n",
        "   ...: \n",
        "   ...: # 3. 顯示結果\n",
        "   ...: print(time, \"is equal to\", hours2, \"Hours and\", minutes2, \"Minutes\")\n",
        "123 is equal to 2 Hours and 3 Minutes\n"
      ],
      "execution_count": null,
      "outputs": []
    },
    {
      "cell_type": "code",
      "metadata": {
        "id": "0lvX96lh6I4U",
        "colab": {
          "base_uri": "https://localhost:8080/"
        },
        "outputId": "923fc4b2-f2f1-4d79-fb02-0c63291a4af7"
      },
      "source": [
        "time = 123\n",
        "hours2 = time // 60\n",
        "minutes2 = time % 60\n",
        "print(time, \"is equal to\", hours2, \"Hours and\", minutes2, \"Minutes\")"
      ],
      "execution_count": null,
      "outputs": [
        {
          "output_type": "stream",
          "text": [
            "123 is equal to 2 Hours and 3 Minutes\n"
          ],
          "name": "stdout"
        }
      ]
    },
    {
      "cell_type": "markdown",
      "metadata": {
        "id": "zxqt4mRXcicF"
      },
      "source": [
        "# 練習題題庫"
      ]
    },
    {
      "cell_type": "markdown",
      "metadata": {
        "id": "hTktEKQQcicR"
      },
      "source": [
        "**練習12：格式化輸出，明星檔案**\n",
        "\n",
        "用Python語言編制一個明星檔案，帶你認識創造Python程式語言的大神！"
      ]
    },
    {
      "cell_type": "code",
      "metadata": {
        "id": "Eo1FSJyVcicR",
        "colab": {
          "base_uri": "https://localhost:8080/"
        },
        "outputId": "88d88d94-1f0b-4663-9b8d-eb72f9ad4844"
      },
      "source": [
        "name = \"吉多·范羅蘇姆\"\n",
        "birthday = \"1956年1月31日\"\n",
        "birthplace = \"荷蘭\"\n",
        "occupation = \"程式設計師,作家\"\n",
        "print(\"Python創始人檔案 : \\n 姓名:{}\\n 生日:{}\\n 國籍:{}\\n 職業:{}\". format(name, birthday, birthplace, occupation))\n"
      ],
      "execution_count": null,
      "outputs": [
        {
          "output_type": "stream",
          "text": [
            "Python創始人檔案 : \n",
            " 姓名:吉多·范羅蘇姆\n",
            " 生日:1956年1月31日\n",
            " 國籍:荷蘭\n",
            " 職業:程式設計師,作家\n"
          ],
          "name": "stdout"
        }
      ]
    },
    {
      "cell_type": "markdown",
      "metadata": {
        "id": "iCd9NzmAcicT"
      },
      "source": [
        "**練習15：長跑健將**\n",
        "\n",
        "梁小星很喜歡運動，每天都堅持跑步5公里，為此他還買了一個手環。觀看手環可以記錄步數、距離、速度、時間等數據。梁小星想用Python寫一個統計時間的程式，你可以幫幫他嗎？(06'32, 07'21, 05,51, 07'03, 05'48)\n"
      ]
    },
    {
      "cell_type": "code",
      "metadata": {
        "id": "SeF0x_FFcicT",
        "colab": {
          "base_uri": "https://localhost:8080/"
        },
        "outputId": "5e6078c2-c407-4fee-8d7c-fe72e88ebede"
      },
      "source": [
        "sum = 6*60 + 32\n",
        "print(\"用時\" ,sum//60, \"分\" ,sum%60, \"秒\")\n",
        "\n",
        "sum = sum + 7*60 + 21\n",
        "print(\"用時\" ,sum//60, \"分\" ,sum%60, \"秒\")\n",
        "\n",
        "sum = sum + 5*60 + 51\n",
        "print(\"用時\" ,sum//60, \"分\" ,sum%60, \"秒\")\n",
        "\n",
        "sum = sum + 7*60 + 3\n",
        "print(\"用時\" ,sum//60, \"分\" ,sum%60, \"秒\")\n",
        "\n",
        "sum = sum + 5*60 + 48\n",
        "print(\"用時\" ,sum//60, \"分\" ,sum%60, \"秒\")"
      ],
      "execution_count": null,
      "outputs": [
        {
          "output_type": "stream",
          "text": [
            "用時 6 分 32 秒\n",
            "用時 13 分 53 秒\n",
            "用時 19 分 44 秒\n",
            "用時 26 分 47 秒\n",
            "用時 32 分 35 秒\n"
          ],
          "name": "stdout"
        }
      ]
    }
  ]
}