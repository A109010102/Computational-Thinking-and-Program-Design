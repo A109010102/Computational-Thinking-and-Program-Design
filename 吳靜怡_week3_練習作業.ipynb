{
  "nbformat": 4,
  "nbformat_minor": 0,
  "metadata": {
    "colab": {
      "name": "吳靜怡-week3-練習作業.ipynb",
      "provenance": [],
      "collapsed_sections": [],
      "authorship_tag": "ABX9TyMUwdNxpQdfyxlmiP1fOyjO",
      "include_colab_link": true
    },
    "kernelspec": {
      "name": "python3",
      "display_name": "Python 3"
    }
  },
  "cells": [
    {
      "cell_type": "markdown",
      "metadata": {
        "id": "view-in-github",
        "colab_type": "text"
      },
      "source": [
        "<a href=\"https://colab.research.google.com/github/A109010102/Computational-Thinking-and-Program-Design/blob/main/%E5%90%B3%E9%9D%9C%E6%80%A1_week3_%E7%B7%B4%E7%BF%92%E4%BD%9C%E6%A5%AD.ipynb\" target=\"_parent\"><img src=\"https://colab.research.google.com/assets/colab-badge.svg\" alt=\"Open In Colab\"/></a>"
      ]
    },
    {
      "cell_type": "code",
      "metadata": {
        "id": "4fmG3bHSQhi_"
      },
      "source": [
        "1"
      ],
      "execution_count": null,
      "outputs": []
    },
    {
      "cell_type": "markdown",
      "metadata": {
        "id": "PecLf_YuP9mA"
      },
      "source": [
        "#隨堂練習"
      ]
    },
    {
      "cell_type": "markdown",
      "metadata": {
        "id": "dDZQF1IPV2NR"
      },
      "source": [
        "1.說明電腦與現今生活越來越緊密，而電腦由硬體與軟體組成，硬體又包括輸入單元、處理單元、記憶單元、輸出單元。 電腦軟硬體都是以「輸入-處理-輸出」為架構。\r\n",
        "\r\n",
        "2.說明程式語言也像其他外國語言一樣，如果不學習就無法與電腦(外國人)溝通。\r\n",
        "\r\n",
        "3.運算思維是一個思考的程序，透過思考來透過自己的邏輯來有效率的解決問題。訓練思維方法:(1)問題拆解(2)抽樣化(3)模式辨識(4)演算法。\r\n",
        "\r\n",
        "4.用電腦解決問題的四個階段\r\n",
        "階段一:運算思維 (1)瞭解問題 (2)如何解決問題 \r\n",
        "階段二:程式設計 (1)輸入、處理與輸出\r\n",
        "階段三:撰寫程式\r\n",
        "階段四:測試與除錯\r\n",
        "即使不是相關科系也應該要有關知識及常識。\r\n",
        "\r\n",
        "5.學程式需主動學習及注重細節。"
      ]
    },
    {
      "cell_type": "markdown",
      "metadata": {
        "id": "5oBoxaPmQD6_"
      },
      "source": [
        "井字號 打文字 shift+enter \r\n"
      ]
    },
    {
      "cell_type": "markdown",
      "metadata": {
        "id": "NJ2GYfWzRDy_"
      },
      "source": [
        "#課後練習"
      ]
    },
    {
      "cell_type": "markdown",
      "metadata": {
        "id": "98j9A5FURLy-"
      },
      "source": [
        "課後練習則為從一則新聞報導，提出你對新聞系（OO系）學生為什麼要學「運算思維與程式設計」的見解。（告訴我新聞連結，以及你的觀點即可。）"
      ]
    },
    {
      "cell_type": "code",
      "metadata": {
        "id": "_hRF8Q71RIEG"
      },
      "source": [
        ""
      ],
      "execution_count": null,
      "outputs": []
    },
    {
      "cell_type": "markdown",
      "metadata": {
        "id": "yrv3bfFMfBZy"
      },
      "source": [
        "https://tw.news.yahoo.com/%E8%B3%87%E5%AE%89%E5%85%AC%E5%8F%B8-%E8%87%B3%E5%B0%9110%E5%80%8B%E9%A7%AD%E5%AE%A2%E5%9C%98%E9%AB%94%E5%88%A9%E7%94%A8%E5%BE%AE%E8%BB%9F%E6%BC%8F%E6%B4%9E-%E5%8F%97%E5%AE%B3%E8%80%85%E9%81%8D%E5%B8%83%E5%85%A8%E7%90%83-053343716.html\r\n",
        "\r\n",
        "認為新聞產業應該要了解大面向的事情，懂得各種專業的基本面貌，不是新聞產業就可以只專攻新聞而已。況且程式設計已經不像以前那樣只給某些特定科系的大專院生所學習，而是連小學生、小朋友在這個時代下都應該像母語一樣學習的語言。連國中生及高中生都有相關課程那大學生應該也得要有基本素養，就像第二外語英文那樣。\r\n",
        "\r\n",
        "https://www.behance.net/gallery/34680727/THE-MISSING-MIGRANTS-MAP-Corriere-della-Sera\r\n",
        "\r\n",
        "除了基本的概念之外，也可以用於新聞產業的資料分析與網頁製作當中，可視化的數據分析\r\n",
        "將能帶給閱聽眾更強大的共鳴以及對事件本身的關注，甚至能讓新聞變得更一目瞭然，所以覺得應該是我們要學習的。"
      ]
    }
  ]
}