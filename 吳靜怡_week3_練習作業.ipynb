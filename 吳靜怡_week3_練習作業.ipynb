{
  "nbformat": 4,
  "nbformat_minor": 0,
  "metadata": {
    "colab": {
      "name": "吳靜怡-week3-練習作業.ipynb",
      "provenance": [],
      "authorship_tag": "ABX9TyOo3RWCEQM1ovBu/NeKFuzS",
      "include_colab_link": true
    },
    "kernelspec": {
      "name": "python3",
      "display_name": "Python 3"
    }
  },
  "cells": [
    {
      "cell_type": "markdown",
      "metadata": {
        "id": "view-in-github",
        "colab_type": "text"
      },
      "source": [
        "<a href=\"https://colab.research.google.com/github/A109010102/Computational-Thinking-and-Program-Design/blob/main/%E5%90%B3%E9%9D%9C%E6%80%A1_week3_%E7%B7%B4%E7%BF%92%E4%BD%9C%E6%A5%AD.ipynb\" target=\"_parent\"><img src=\"https://colab.research.google.com/assets/colab-badge.svg\" alt=\"Open In Colab\"/></a>"
      ]
    },
    {
      "cell_type": "code",
      "metadata": {
        "id": "4fmG3bHSQhi_"
      },
      "source": [
        "1"
      ],
      "execution_count": null,
      "outputs": []
    },
    {
      "cell_type": "markdown",
      "metadata": {
        "id": "PecLf_YuP9mA"
      },
      "source": [
        "#隨堂練習"
      ]
    },
    {
      "cell_type": "markdown",
      "metadata": {
        "id": "dDZQF1IPV2NR"
      },
      "source": [
        "1.說明電腦與現今生活越來越緊密，而電腦由硬體與軟體組成，硬體又包括輸入單元、處理單元、記憶單元、輸出單元。 電腦軟硬體都是以「輸入-處理-輸出」為架構。\r\n",
        "\r\n",
        "2.說明程式語言也像其他外國語言一樣，如果不學習就無法與電腦(外國人)溝通。\r\n",
        "\r\n",
        "3.運算思維是一個思考的程序，透過思考來透過自己的邏輯來有效率的解決問題。訓練思維方法:(1)問題拆解(2)抽樣化(3)模式辨識(4)演算法。\r\n",
        "\r\n",
        "4.用電腦解決問題的四個階段\r\n",
        "階段一:運算思維 (1)瞭解問題 (2)如何解決問題 \r\n",
        "階段二:程式設計 (1)輸入、處理與輸出\r\n",
        "階段三:撰寫程式\r\n",
        "階段四:測試與除錯\r\n",
        "即使不是相關科系也應該要有關知識及常識。\r\n",
        "\r\n",
        "5.學程式需主動學習及注重細節。"
      ]
    },
    {
      "cell_type": "markdown",
      "metadata": {
        "id": "5oBoxaPmQD6_"
      },
      "source": [
        "井字號 打文字 shift+enter \r\n"
      ]
    },
    {
      "cell_type": "markdown",
      "metadata": {
        "id": "NJ2GYfWzRDy_"
      },
      "source": [
        "#課後練習"
      ]
    },
    {
      "cell_type": "markdown",
      "metadata": {
        "id": "98j9A5FURLy-"
      },
      "source": [
        "課後練習則為從一則新聞報導，提出你對新聞系（OO系）學生為什麼要學「運算思維與程式設計」的見解。（告訴我新聞連結，以及你的觀點即可。）"
      ]
    },
    {
      "cell_type": "code",
      "metadata": {
        "id": "_hRF8Q71RIEG"
      },
      "source": [
        ""
      ],
      "execution_count": null,
      "outputs": []
    }
  ]
}