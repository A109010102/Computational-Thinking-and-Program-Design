{
  "nbformat": 4,
  "nbformat_minor": 0,
  "metadata": {
    "kernelspec": {
      "display_name": "Python 3",
      "language": "python",
      "name": "python3"
    },
    "language_info": {
      "codemirror_mode": {
        "name": "ipython",
        "version": 3
      },
      "file_extension": ".py",
      "mimetype": "text/x-python",
      "name": "python",
      "nbconvert_exporter": "python",
      "pygments_lexer": "ipython3",
      "version": "3.8.5"
    },
    "colab": {
      "name": "「吳靜怡-Week13-作業練習.ipynb」的副本",
      "provenance": [],
      "include_colab_link": true
    }
  },
  "cells": [
    {
      "cell_type": "markdown",
      "metadata": {
        "id": "view-in-github",
        "colab_type": "text"
      },
      "source": [
        "<a href=\"https://colab.research.google.com/github/A109010102/Computational-Thinking-and-Program-Design/blob/main/%E5%90%B3%E9%9D%9C%E6%80%A1_Week13_%E4%BD%9C%E6%A5%AD%E7%B7%B4%E7%BF%92_ipynb\" target=\"_parent\"><img src=\"https://colab.research.google.com/assets/colab-badge.svg\" alt=\"Open In Colab\"/></a>"
      ]
    },
    {
      "cell_type": "markdown",
      "metadata": {
        "id": "WiJ1e4kTY5Do"
      },
      "source": [
        "**隨堂練習1： BMI 計算**\n",
        "\n",
        "請寫一個程式讓使用者輸入身高與體重，顯示BMI 值與肥胖程度。 BMI 等於體重（KG）除以身高（M）的平方，而BMI 與肥胖分類標準如下：\n",
        "\n",
        "若BMI 值小於18，則顯示「體重過輕」，否則若BMI 值小於24，則顯示「體重正常」，若BMI 值小於27，則顯示「體重過重」，否則顯示「體重肥胖」。"
      ]
    },
    {
      "cell_type": "code",
      "metadata": {
        "id": "zND5GC9GY5Ds",
        "colab": {
          "base_uri": "https://localhost:8080/"
        },
        "outputId": "e484c3ec-392f-4d1b-83fa-a41efe114413"
      },
      "source": [
        "w=float(input('請輸入體重(KG)?'))\n",
        "h=float(input('請輸入身高(M)?'))\n",
        "bmi = w/(h*h)\n",
        "\n",
        "print('BMI為',bmi)\n",
        "\n",
        "if bmi < 18:\n",
        "  print('體重過輕')\n",
        "elif bmi < 24:\n",
        "  print('體重正常')\n",
        "elif bmi < 27:\n",
        "  print('體重過重')\n",
        "else:\n",
        "  print('體重肥胖')"
      ],
      "execution_count": 12,
      "outputs": [
        {
          "output_type": "stream",
          "text": [
            "請輸入體重(KG)?25\n",
            "請輸入身高(M)?150\n",
            "BMI為 0.0011111111111111111\n",
            "體重過輕\n"
          ],
          "name": "stdout"
        }
      ]
    },
    {
      "cell_type": "markdown",
      "metadata": {
        "id": "QNi24xVAY5Dt"
      },
      "source": [
        "**隨堂練習2： 三一律(單向選擇、雙向與巢狀選擇、多向選擇)**\n",
        "\n",
        "請輸入一個數，然後判斷這個數是正數、是負數或者是零。"
      ]
    },
    {
      "cell_type": "code",
      "metadata": {
        "id": "ZhqaqUzOY5Dt",
        "colab": {
          "base_uri": "https://localhost:8080/"
        },
        "outputId": "79f06768-2ca8-4654-d7cc-d75636c738e1"
      },
      "source": [
        "num = int(input(\"Pick a number: \"))\n",
        "if num > 0:\n",
        "  print(\"Your number is positive.\")\n",
        "if num < 0:\n",
        "  print(\"Your number is negative.\")\n",
        "if num == 0:\n",
        "  print(\"Your number is zero.\")\n",
        "  print(\"Finished\" )"
      ],
      "execution_count": 15,
      "outputs": [
        {
          "output_type": "stream",
          "text": [
            "Pick a number: 5\n",
            "Your number is positive.\n"
          ],
          "name": "stdout"
        }
      ]
    },
    {
      "cell_type": "markdown",
      "metadata": {
        "id": "ktYFxg8oY5Dt"
      },
      "source": [
        "**練習5   體溫與發燒**\n",
        "\n",
        "設計程式根據體溫判斷是否發燒，由使用者輸入體溫，程式判斷是否發燒，假設體溫小於36度，顯示「體溫過低」，體溫大於等於36度小於38度，顯示「體溫正常」，否則若體溫大於等於38度小於39度，顯示「體溫有點燒」，否則體溫大於等於39度，顯示「體溫很燒」。\n",
        "\n",
        "輸入體溫「36.5」，輸出為「體溫正常」。\n",
        "\n",
        "～程式執行結果如下。\n",
        "\n",
        "請輸入體溫？36.5\n",
        "\n",
        "體溫正常"
      ]
    },
    {
      "cell_type": "code",
      "metadata": {
        "colab": {
          "base_uri": "https://localhost:8080/"
        },
        "id": "VMGo8SqyY5Du",
        "outputId": "534e8431-f47f-4c29-f140-9e8d1ad9aa51"
      },
      "source": [
        "temp = float(input('請輸入體溫?'))\n",
        "if (temp < 36):\n",
        " print('體溫過低')\n",
        "elif (temp < 38):\n",
        " print(\"體溫正常\")\n",
        "elif (temp < 39):\n",
        " print(\"體溫有點燒\")\n",
        "else:\n",
        " print(\"體溫很燒\")"
      ],
      "execution_count": 3,
      "outputs": [
        {
          "output_type": "stream",
          "text": [
            "請輸入體溫?40\n",
            "體溫很燒\n"
          ],
          "name": "stdout"
        }
      ]
    },
    {
      "cell_type": "markdown",
      "metadata": {
        "id": "9dAZUol5Y5Du"
      },
      "source": [
        "**練習6  閏年判斷**\n",
        "\n",
        "設計程式允許輸入西元幾年，請求出該年是否是閏年，閏年表示該年多一天，若為4的倍數稱做閏年，但若為100的倍數就不為閏年，且若為400倍數又是閏年。(四年一潤、百年不潤、四百年再潤)\n",
        "\n",
        "輸入年份「2012」，輸出為「2012是閏年」。\n",
        "\n",
        "～程式執行結果如下。\n",
        "\n",
        "請輸入年份？2012\n",
        "\n",
        "2012 是閏年"
      ]
    },
    {
      "cell_type": "code",
      "metadata": {
        "id": "-V5b2HwCY5Dv",
        "colab": {
          "base_uri": "https://localhost:8080/"
        },
        "outputId": "893f3e01-06ff-482f-ee72-f31e90cda0b6"
      },
      "source": [
        "year = int(input('請輸入年份?'))\n",
        "\n",
        "if ((year % 400) == 0):\n",
        "  print(year, \"是閨年\")\n",
        "elif ((year % 100)== 0): \n",
        "  print(year, \"不是閨年\")\n",
        "elif ((year % 4)== 0): \n",
        "  print(year, \"是閨年\")  \n",
        " \n",
        "else:\n",
        "  print(year, \"不是閨年\")\n",
        "\n"
      ],
      "execution_count": 57,
      "outputs": [
        {
          "output_type": "stream",
          "text": [
            "請輸入年份?2001\n",
            "2001 不是閨年\n"
          ],
          "name": "stdout"
        }
      ]
    },
    {
      "cell_type": "markdown",
      "metadata": {
        "id": "ff8jDI_XY5Dv"
      },
      "source": [
        "**練習12：計程車計費**\n",
        "\n",
        "某城市計程車計費3公里以內6元，超過3公里不足10公里、每公里1.8元，超過10公里則超過部分加收50%。此外停車等候每3分鐘收1元，請用Python寫出車費是多少。"
      ]
    },
    {
      "cell_type": "markdown",
      "metadata": {
        "id": "e36Icw1diRY_"
      },
      "source": [
        "length, time\n",
        "pay_length=(6)\n",
        "     =(6) +(length - ) * 1.8\n",
        "     =(6) +(10-3) *1.8 + (lengtht -10)*1.8*1.5\n",
        "\n",
        "pay_time= time/3 * 1\n",
        "pay = pay_length + pay_time"
      ]
    },
    {
      "cell_type": "code",
      "metadata": {
        "id": "Neols3i5Y5Dv",
        "colab": {
          "base_uri": "https://localhost:8080/"
        },
        "outputId": "dbec8820-dfcd-4f72-ddf6-7ad4f7fa4e38"
      },
      "source": [
        "length = int(input(\"請輸入距離\"))\n",
        "time = int(input(\"請輸入時間:\"))\n",
        "if length >= 10:\n",
        "  feight = 6 + (10-3) *1.8 +(length-10) *1.8*1.5\n",
        "else:\n",
        "  if length >= 3:\n",
        "    feight = 6 + (length-10) *1.8\n",
        "  else:\n",
        "    feight=6\n",
        "feight = feight + (time / 3) * 1\n",
        "print(\"計程車費是\", feight)"
      ],
      "execution_count": 45,
      "outputs": [
        {
          "output_type": "stream",
          "text": [
            "請輸入距離10\n",
            "請輸入時間:3\n",
            "計程車費是 19.6\n"
          ],
          "name": "stdout"
        }
      ]
    }
  ]
}